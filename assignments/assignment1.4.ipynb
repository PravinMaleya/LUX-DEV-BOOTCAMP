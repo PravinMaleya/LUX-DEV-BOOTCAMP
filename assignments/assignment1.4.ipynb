{
 "cells": [
  {
   "cell_type": "markdown",
   "metadata": {},
   "source": [
    "## Measures Of Central Tendency\n",
    "\n",
    "### MEAN\n",
    "To calculate the **mean** we need to have total sum of the list divided by the total number of values in the list (length)."
   ]
  },
  {
   "cell_type": "code",
   "execution_count": null,
   "metadata": {},
   "outputs": [],
   "source": [
    "my_list = [10, 19, 5, 30, 15, 17, 33, 40]"
   ]
  },
  {
   "cell_type": "code",
   "execution_count": null,
   "metadata": {},
   "outputs": [],
   "source": [
    "sum = sum(my_list)\n",
    "\n",
    "print(sum)"
   ]
  },
  {
   "cell_type": "code",
   "execution_count": null,
   "metadata": {},
   "outputs": [],
   "source": [
    "length = len(my_list)\n",
    "\n",
    "print(length)"
   ]
  },
  {
   "cell_type": "code",
   "execution_count": null,
   "metadata": {},
   "outputs": [],
   "source": [
    "mean = sum / length\n",
    "\n",
    "print(mean)"
   ]
  },
  {
   "cell_type": "markdown",
   "metadata": {},
   "source": [
    "### MEDIAN\n",
    "The median is the middle value in a dataset ordered from low to high.\n",
    "\n",
    "- If there is an odd number of values, the median is the middle one.\n",
    "- If there is an even number of values, the median is the average of the two middle numbers."
   ]
  },
  {
   "cell_type": "code",
   "execution_count": null,
   "metadata": {},
   "outputs": [],
   "source": [
    "my_list.sort()\n",
    "\n",
    "n = len(my_list)\n",
    "if n % 2 == 1:  # odd number of elements\n",
    "    median = my_list[n // 2]\n",
    "else:  # even number of elements\n",
    "    median = (my_list[n // 2 - 1] + my_list[n // 2]) / 2\n",
    "\n",
    "print(median)"
   ]
  },
  {
   "cell_type": "markdown",
   "metadata": {},
   "source": [
    "### MODE\n",
    "The mode is the number that appears most frequently in the dataset."
   ]
  },
  {
   "cell_type": "markdown",
   "metadata": {},
   "source": [
    "### Assignment\n",
    "- Get the absolute deviation mean using for loop and a function\n",
    "- When writing a report do we always start from the smallest or the largest percent\n",
    "- Find different percentiles of (my_list) without using libraries"
   ]
  },
  {
   "cell_type": "code",
   "execution_count": null,
   "metadata": {},
   "outputs": [],
   "source": [
    "def mean_absolute_deviation(my_list):\n",
    "    # Step 1: Calculate the mean\n",
    "    mean = sum(my_list) / len(my_list)\n",
    "    \n",
    "    # Step 2: Initialize a list to store absolute deviations\n",
    "    absolute_deviations = []\n",
    "    \n",
    "    # Step 3: Calculate absolute deviations using a for loop\n",
    "    for number in my_list:\n",
    "        deviation = abs(number - mean)\n",
    "        absolute_deviations.append(deviation)\n",
    "    \n",
    "    # Step 4: Calculate the mean of the absolute deviations\n",
    "    mad = sum(absolute_deviations) / len(absolute_deviations)\n",
    "    \n",
    "    return mad\n",
    "\n",
    "# Example usage with the provided list\n",
    "my_list = [10, 19, 5, 30, 15, 17, 33, 40]\n",
    "mad = mean_absolute_deviation(my_list)\n",
    "print(mad)"
   ]
  },
  {
   "cell_type": "markdown",
   "metadata": {},
   "source": [
    "**When writing a report do we always start from the smallest or the largest percent.**\n",
    "\n",
    "- "
   ]
  }
 ],
 "metadata": {
  "kernelspec": {
   "display_name": "Python 3",
   "language": "python",
   "name": "python3"
  },
  "language_info": {
   "codemirror_mode": {
    "name": "ipython",
    "version": 3
   },
   "file_extension": ".py",
   "mimetype": "text/x-python",
   "name": "python",
   "nbconvert_exporter": "python",
   "pygments_lexer": "ipython3",
   "version": "3.13.1"
  }
 },
 "nbformat": 4,
 "nbformat_minor": 2
}
