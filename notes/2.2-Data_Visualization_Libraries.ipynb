{
 "cells": [
  {
   "cell_type": "markdown",
   "metadata": {},
   "source": [
    "# DATA VISUALIZATION LIBRARIES\n",
    "\n",
    "There several types of data visualizations which we can categorize them into the following:\n",
    "\n",
    "**Basic Visualization**\n",
    "**Interactive Visualization**\n",
    "**Advanced and Specialized Visualization**\n",
    "\n",
    "### Basic Visualization\n",
    "1. **Matplotlib**\n",
    "- Used for creating static, animated and interactive visualizations in python. (**Normal** visualizations)"
   ]
  },
  {
   "cell_type": "code",
   "execution_count": null,
   "metadata": {},
   "outputs": [],
   "source": [
    "#How to import matplotlib\n",
    "import matplotlib.pyplot as plt"
   ]
  },
  {
   "cell_type": "markdown",
   "metadata": {},
   "source": [
    "2. **Seaborn**\n",
    "- Built on Matplotlib, but provides more **aesthetically** pleasing and statistical plots. It is used for making complex visualization easy to generate."
   ]
  },
  {
   "cell_type": "code",
   "execution_count": null,
   "metadata": {},
   "outputs": [],
   "source": [
    "#How to import seaborn\n",
    "import seaborn as sns"
   ]
  },
  {
   "cell_type": "markdown",
   "metadata": {},
   "source": [
    "### Interactive Visualization\n",
    "Refers to data visualizations that allow users to engage with the data dynamically rather than just viewing statis charts. Users can be able to zoom, hover, filter and manipulate data in real time to gain deeper insights.\n",
    "\n",
    "1. **Plotly**\n",
    "- Creates interactive and web-based visualizations.\n",
    "Supports hover effects, zooming, filtering and 3D plotting just as described above."
   ]
  },
  {
   "cell_type": "code",
   "execution_count": null,
   "metadata": {},
   "outputs": [],
   "source": [
    "import plotly.express as px"
   ]
  },
  {
   "cell_type": "markdown",
   "metadata": {},
   "source": [
    "2. **Bokeh**\n",
    "- This is used for creating interactive and web-ready visualizations.\n",
    "- Allows users to zoom, pan and update data in real time, making it deal for dashboards and dashboards. "
   ]
  },
  {
   "cell_type": "markdown",
   "metadata": {},
   "source": [
    "### Advanced and Specialized Visualization\n",
    "- Altair\n",
    "- GGplot (Plotline)\n",
    "- Folium"
   ]
  }
 ],
 "metadata": {
  "kernelspec": {
   "display_name": "Python 3",
   "language": "python",
   "name": "python3"
  },
  "language_info": {
   "codemirror_mode": {
    "name": "ipython",
    "version": 3
   },
   "file_extension": ".py",
   "mimetype": "text/x-python",
   "name": "python",
   "nbconvert_exporter": "python",
   "pygments_lexer": "ipython3",
   "version": "3.13.1"
  }
 },
 "nbformat": 4,
 "nbformat_minor": 2
}
